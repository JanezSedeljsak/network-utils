{
 "cells": [
  {
   "cell_type": "code",
   "execution_count": 7,
   "metadata": {},
   "outputs": [],
   "source": [
    "import numpy as np\n",
    "import matplotlib.pyplot as plt\n",
    "import igraph as ig\n",
    "import pandas as pd\n",
    "import networkx as nx\n",
    "from utils import *"
   ]
  },
  {
   "cell_type": "code",
   "execution_count": 8,
   "metadata": {},
   "outputs": [],
   "source": [
    "G = read_pajek(\"exam-graphs123/movies.net\")"
   ]
  },
  {
   "cell_type": "code",
   "execution_count": 11,
   "metadata": {},
   "outputs": [
    {
     "name": "stdout",
     "output_type": "stream",
     "text": [
      "Is Directed:              False\n",
      "Average Degree:           8.288\n",
      "Max Degree:               1025\n",
      "Clustering Coefficient:   0.0\n",
      "Number of Vertices:       2500\n",
      "Number of Edges:          10360\n",
      "Gamma:                    2.3605528142747856\n",
      "Number of Components:     1\n",
      "Number of Pendant Nodes   745\n",
      "Number of Isolated Nodes  0\n",
      "LCC:                      1.0\n",
      "Avg. Path Length:         3.1664982793117247\n"
     ]
    }
   ],
   "source": [
    "info(G)"
   ]
  }
 ],
 "metadata": {
  "kernelspec": {
   "display_name": "Python 3",
   "language": "python",
   "name": "python3"
  },
  "language_info": {
   "codemirror_mode": {
    "name": "ipython",
    "version": 3
   },
   "file_extension": ".py",
   "mimetype": "text/x-python",
   "name": "python",
   "nbconvert_exporter": "python",
   "pygments_lexer": "ipython3",
   "version": "3.8.10"
  }
 },
 "nbformat": 4,
 "nbformat_minor": 2
}
