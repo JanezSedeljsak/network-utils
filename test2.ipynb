{
 "cells": [
  {
   "cell_type": "code",
   "execution_count": 1,
   "metadata": {},
   "outputs": [],
   "source": [
    "import numpy as np\n",
    "import matplotlib.pyplot as plt\n",
    "import igraph as ig\n",
    "import pandas as pd\n",
    "import networkx as nx\n",
    "from utils import *"
   ]
  },
  {
   "cell_type": "code",
   "execution_count": 2,
   "metadata": {},
   "outputs": [
    {
     "name": "stdout",
     "output_type": "stream",
     "text": [
      "Is Directed:              False\n",
      "Average Degree:           5.129032258064516\n",
      "Max Degree:               12\n",
      "Clustering Coefficient:   0.25895824605502027\n",
      "Number of Vertices:       62\n",
      "Number of Edges:          159\n",
      "Gamma:                    3.2964023004215592\n",
      "Number of Components:     1\n",
      "Number of Pendant Nodes   9\n",
      "Number of Isolated Nodes  0\n",
      "LCC:                      1.0\n",
      "Avg. Path Length:         3.3569539925965097\n"
     ]
    }
   ],
   "source": [
    "dg = read_pajek(\"example-graphs/dolphins.net\")\n",
    "info(dg)"
   ]
  },
  {
   "cell_type": "code",
   "execution_count": 7,
   "metadata": {},
   "outputs": [
    {
     "name": "stdout",
     "output_type": "stream",
     "text": [
      "Node: SN4\n",
      "Index: 37\n",
      "Degree: 11\n",
      "------------------------\n",
      "Node: Kringel\n",
      "Index: 20\n",
      "Degree: 9\n",
      "------------------------\n",
      "Node: SN9\n",
      "Index: 40\n",
      "Degree: 8\n",
      "------------------------\n",
      "Node: Beescratch\n",
      "Index: 1\n",
      "Degree: 8\n",
      "------------------------\n",
      "Node: Zap\n",
      "Index: 59\n",
      "Degree: 5\n",
      "------------------------\n",
      "Node: Topless\n",
      "Index: 45\n",
      "Degree: 11\n",
      "------------------------\n",
      "Node: MN60\n",
      "Index: 23\n",
      "Degree: 3\n",
      "------------------------\n",
      "Node: Grin\n",
      "Index: 14\n",
      "Degree: 12\n",
      "------------------------\n",
      "Node: Trigger\n",
      "Index: 51\n",
      "Degree: 10\n",
      "------------------------\n",
      "Node: SN89\n",
      "Index: 39\n",
      "Degree: 2\n",
      "------------------------\n"
     ]
    }
   ],
   "source": [
    "search = dg.vs.find(name='SN100').index\n",
    "similar_nodes_indices = top_n_similar_nodes(dg, search)\n",
    "for index in similar_nodes_indices:\n",
    "    node = dg.vs[index]\n",
    "    print(f\"Node: {node['name']}\")\n",
    "    print(f\"Index: {index}\")\n",
    "    print(f\"Degree: {dg.degree(index)}\")\n",
    "    print(\"------------------------\")"
   ]
  }
 ],
 "metadata": {
  "kernelspec": {
   "display_name": "Python 3",
   "language": "python",
   "name": "python3"
  },
  "language_info": {
   "codemirror_mode": {
    "name": "ipython",
    "version": 3
   },
   "file_extension": ".py",
   "mimetype": "text/x-python",
   "name": "python",
   "nbconvert_exporter": "python",
   "pygments_lexer": "ipython3",
   "version": "3.12.4"
  }
 },
 "nbformat": 4,
 "nbformat_minor": 2
}
