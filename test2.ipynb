{
 "cells": [
  {
   "cell_type": "code",
   "execution_count": 1,
   "metadata": {},
   "outputs": [],
   "source": [
    "import numpy as np\n",
    "import matplotlib.pyplot as plt\n",
    "import igraph as ig\n",
    "import pandas as pd\n",
    "import networkx as nx\n",
    "from utils import *"
   ]
  },
  {
   "cell_type": "code",
   "execution_count": 2,
   "metadata": {},
   "outputs": [
    {
     "name": "stdout",
     "output_type": "stream",
     "text": [
      "Is Directed:              False\n",
      "Average Degree:           5.129032258064516\n",
      "Max Degree:               12\n",
      "Clustering Coefficient:   0.25895824605502027\n",
      "Number of Vertices:       62\n",
      "Number of Edges:          159\n",
      "Gamma:                    3.2964023004215592\n",
      "Number of Components:     1\n",
      "Number of Pendant Nodes   9\n",
      "Number of Isolated Nodes  0\n",
      "LCC:                      1.0\n",
      "Avg. Path Length:         3.3569539925965097\n"
     ]
    }
   ],
   "source": [
    "dg = read_pajek(\"example-graphs/dolphins.net\")\n",
    "info(dg)"
   ]
  },
  {
   "cell_type": "code",
   "execution_count": 3,
   "metadata": {},
   "outputs": [
    {
     "name": "stdout",
     "output_type": "stream",
     "text": [
      "Node: SN4\n",
      "Index: 37\n",
      "Degree: 11\n",
      "Sim. Score: 0.04588447249329686\n",
      "------------------------\n",
      "Node: Kringel\n",
      "Index: 20\n",
      "Degree: 9\n",
      "Sim. Score: 0.039740215965415736\n",
      "------------------------\n",
      "Node: SN9\n",
      "Index: 40\n",
      "Degree: 8\n",
      "Sim. Score: 0.03856928519929132\n",
      "------------------------\n",
      "Node: Beescratch\n",
      "Index: 1\n",
      "Degree: 8\n",
      "Sim. Score: 0.035898778680829004\n",
      "------------------------\n",
      "Node: Zap\n",
      "Index: 59\n",
      "Degree: 5\n",
      "Sim. Score: 0.0341353717276925\n",
      "------------------------\n",
      "Node: Topless\n",
      "Index: 45\n",
      "Degree: 11\n",
      "Sim. Score: 0.034105208323535106\n",
      "------------------------\n",
      "Node: MN60\n",
      "Index: 23\n",
      "Degree: 3\n",
      "Sim. Score: 0.027814354126123292\n",
      "------------------------\n",
      "Node: Grin\n",
      "Index: 14\n",
      "Degree: 12\n",
      "Sim. Score: 0.027464977221980498\n",
      "------------------------\n",
      "Node: Trigger\n",
      "Index: 51\n",
      "Degree: 10\n",
      "Sim. Score: 0.025423426420587945\n",
      "------------------------\n",
      "Node: SN89\n",
      "Index: 39\n",
      "Degree: 2\n",
      "Sim. Score: 0.025093728096182107\n",
      "------------------------\n"
     ]
    }
   ],
   "source": [
    "search = dg.vs.find(name='SN100').index\n",
    "similar_nodes_indices, scores = top_n_similar_nodes(dg, search)\n",
    "for index in similar_nodes_indices:\n",
    "    node = dg.vs[index]\n",
    "    print(f\"Node: {node['name']}\")\n",
    "    print(f\"Index: {index}\")\n",
    "    print(f\"Degree: {dg.degree(index)}\")\n",
    "    print(f\"Sim. Score: {scores[index]}\")\n",
    "    print(\"------------------------\")"
   ]
  },
  {
   "cell_type": "code",
   "execution_count": 4,
   "metadata": {},
   "outputs": [
    {
     "name": "stdout",
     "output_type": "stream",
     "text": [
      "Node ID: 36\n",
      "Node attributes: {'name': 'SN100'}\n",
      "Node degree: 7\n",
      "Betweenness: 454.2740687329566\n",
      "-----\n",
      "Node ID: 1\n",
      "Node attributes: {'name': 'Beescratch'}\n",
      "Node degree: 8\n",
      "Betweenness: 390.38371702504406\n",
      "-----\n",
      "Node ID: 40\n",
      "Node attributes: {'name': 'SN9'}\n",
      "Node degree: 8\n",
      "Betweenness: 261.96361856699\n",
      "-----\n",
      "Node ID: 37\n",
      "Node attributes: {'name': 'SN4'}\n",
      "Node degree: 11\n",
      "Betweenness: 253.58271324522764\n",
      "-----\n",
      "Node ID: 7\n",
      "Node attributes: {'name': 'DN63'}\n",
      "Node degree: 5\n",
      "Betweenness: 216.37667326297165\n",
      "-----\n",
      "Node ID: 17\n",
      "Node attributes: {'name': 'Jet'}\n",
      "Node degree: 9\n",
      "Betweenness: 209.1692981353096\n",
      "-----\n",
      "Node ID: 20\n",
      "Node attributes: {'name': 'Kringel'}\n",
      "Node degree: 9\n",
      "Betweenness: 187.8417036892647\n",
      "-----\n",
      "Node ID: 54\n",
      "Node attributes: {'name': 'Upbang'}\n",
      "Node degree: 7\n",
      "Betweenness: 181.3926135772405\n",
      "-----\n",
      "Node ID: 51\n",
      "Node attributes: {'name': 'Trigger'}\n",
      "Node degree: 10\n",
      "Betweenness: 154.9593761929128\n",
      "-----\n",
      "Node ID: 57\n",
      "Node attributes: {'name': 'Web'}\n",
      "Node degree: 9\n",
      "Betweenness: 154.09457068596953\n",
      "-----\n"
     ]
    }
   ],
   "source": [
    "top_bcm, bcm = top_n_betweenness_nodes(dg, 10)\n",
    "for node_index in top_bcm:\n",
    "    node = dg.vs[node_index]\n",
    "    print(f\"Node ID: {node.index}\")\n",
    "    print(f\"Node attributes: {node.attributes()}\")\n",
    "    print(f\"Node degree: {dg.degree(node_index)}\")\n",
    "    print(f\"Betweenness: {bcm[node_index]}\")\n",
    "    print(\"-----\")"
   ]
  },
  {
   "cell_type": "code",
   "execution_count": 15,
   "metadata": {},
   "outputs": [
    {
     "name": "stdout",
     "output_type": "stream",
     "text": [
      "Modularity: 0.14875\n"
     ]
    }
   ],
   "source": [
    "G = ig.Graph.Watts_Strogatz(1, 10, 2, 0.1)\n",
    "membership = [0, 0, 0, 0, 0, 1, 1, 1, 1, 1]\n",
    "modularity = G.modularity(membership)\n",
    "print(f\"Modularity: {modularity}\")"
   ]
  }
 ],
 "metadata": {
  "kernelspec": {
   "display_name": "Python 3",
   "language": "python",
   "name": "python3"
  },
  "language_info": {
   "codemirror_mode": {
    "name": "ipython",
    "version": 3
   },
   "file_extension": ".py",
   "mimetype": "text/x-python",
   "name": "python",
   "nbconvert_exporter": "python",
   "pygments_lexer": "ipython3",
   "version": "3.12.4"
  }
 },
 "nbformat": 4,
 "nbformat_minor": 2
}
