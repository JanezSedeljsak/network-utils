{
 "cells": [
  {
   "cell_type": "code",
   "execution_count": 1,
   "metadata": {},
   "outputs": [],
   "source": [
    "import numpy as np\n",
    "import matplotlib.pyplot as plt\n",
    "import igraph as ig\n",
    "import pandas as pd\n",
    "import networkx as nx\n",
    "from utils import *"
   ]
  },
  {
   "cell_type": "code",
   "execution_count": 2,
   "metadata": {},
   "outputs": [
    {
     "name": "stdout",
     "output_type": "stream",
     "text": [
      "Is Directed:              False\n",
      "Average Degree:           8.288\n",
      "Max Degree:               1025\n",
      "Clustering Coefficient:   0.0\n",
      "Number of Vertices:       2500\n",
      "Number of Edges:          10360\n",
      "Gamma:                    2.3605528142747856\n",
      "Number of Components:     1\n",
      "Number of Pendant Nodes   745\n",
      "Number of Isolated Nodes  0\n",
      "LCC:                      1.0\n",
      "Avg. Path Length:         3.1664982793117247\n"
     ]
    }
   ],
   "source": [
    "g_movies = read_pajek('example-graphs/movies.net')\n",
    "info(g_movies)"
   ]
  },
  {
   "cell_type": "code",
   "execution_count": 3,
   "metadata": {},
   "outputs": [
    {
     "data": {
      "text/plain": [
       "igraph.Vertex(<igraph.Graph object at 0x0000013D17411850>, 0, {'name': \"mov: '71\"})"
      ]
     },
     "execution_count": 3,
     "metadata": {},
     "output_type": "execute_result"
    }
   ],
   "source": [
    "g_movies.vs[0]"
   ]
  },
  {
   "cell_type": "code",
   "execution_count": 4,
   "metadata": {},
   "outputs": [],
   "source": [
    "for vertex in g_movies.vs:\n",
    "    tag, title = vertex[\"name\"].split(\":\")\n",
    "    tag = tag.strip()\n",
    "    title = title.strip()\n",
    "    vertex[\"tag\"] = tag\n",
    "    vertex[\"title\"] = title"
   ]
  },
  {
   "cell_type": "code",
   "execution_count": 5,
   "metadata": {},
   "outputs": [
    {
     "data": {
      "text/plain": [
       "igraph.Vertex(<igraph.Graph object at 0x0000013D17411850>, 0, {'name': \"mov: '71\", 'tag': 'mov', 'title': \"'71\"})"
      ]
     },
     "execution_count": 5,
     "metadata": {},
     "output_type": "execute_result"
    }
   ],
   "source": [
    "g_movies.vs[0]"
   ]
  },
  {
   "cell_type": "code",
   "execution_count": 6,
   "metadata": {},
   "outputs": [
    {
     "name": "stdout",
     "output_type": "stream",
     "text": [
      "Is Directed:              False\n",
      "Average Degree:           24.980392156862745\n",
      "Max Degree:               1245\n",
      "Clustering Coefficient:   0.8641433066792786\n",
      "Number of Vertices:       1377\n",
      "Number of Edges:          17199\n",
      "Gamma:                    1.8731106648679672\n",
      "Number of Components:     1\n",
      "Number of Pendant Nodes   0\n",
      "Number of Isolated Nodes  0\n",
      "LCC:                      1.0\n",
      "Avg. Path Length:         2.017724747090912\n"
     ]
    }
   ],
   "source": [
    "types = g_movies.vs['tag']\n",
    "is_movie = [t == 'mov' for t in types]\n",
    "collab_movies = g_movies.bipartite_projection(is_movie)\n",
    "info(collab_movies[0])"
   ]
  },
  {
   "cell_type": "code",
   "execution_count": 9,
   "metadata": {},
   "outputs": [
    {
     "data": {
      "text/plain": [
       "(igraph.Vertex(<igraph.Graph object at 0x0000013D17411850>, 988, {'name': 'mov: Going Our Way', 'tag': 'mov', 'title': 'Going Our Way'}),\n",
       " igraph.Vertex(<igraph.Graph object at 0x0000013D17411850>, 600, {'name': 'mov: Cefurji Raus!', 'tag': 'mov', 'title': 'Cefurji Raus!'}))"
      ]
     },
     "execution_count": 9,
     "metadata": {},
     "output_type": "execute_result"
    }
   ],
   "source": [
    "(g_movies.vs.find(title=\"Going Our Way\"), g_movies.vs.find(title=\"Cefurji Raus!\"))"
   ]
  },
  {
   "cell_type": "code",
   "execution_count": 21,
   "metadata": {},
   "outputs": [
    {
     "name": "stdout",
     "output_type": "stream",
     "text": [
      "Node: mov: Going Our Way 2\n",
      "Index: 994\n",
      "Degree: 7\n",
      "Sim. Score: 0.05446995454860762\n",
      "------------------------\n",
      "Node: mov: Parade\n",
      "Index: 1698\n",
      "Degree: 7\n",
      "Sim. Score: 0.011051739450377095\n",
      "------------------------\n",
      "Node: mov: No Man's Land\n",
      "Index: 1640\n",
      "Degree: 9\n",
      "Sim. Score: 0.010364383520146379\n",
      "------------------------\n",
      "Node: mov: Hunting Party\n",
      "Index: 1152\n",
      "Degree: 11\n",
      "Sim. Score: 0.00598821018719993\n",
      "------------------------\n",
      "Node: mov: Perfect Day\n",
      "Index: 1719\n",
      "Degree: 11\n",
      "Sim. Score: 0.0010234226546175082\n",
      "------------------------\n"
     ]
    }
   ],
   "source": [
    "search = [\n",
    "    g_movies.vs.find(title=\"Going Our Way\").index, \n",
    "    g_movies.vs.find(title=\"Cefurji Raus!\").index\n",
    "]\n",
    "\n",
    "similar_nodes_indices, scores = top_n_similar_nodes(g_movies, search, n=50)\n",
    "for index in similar_nodes_indices:\n",
    "    node = g_movies.vs[index]\n",
    "    if 'cat:' not in node['name']:\n",
    "        print(f\"Node: {node['name']}\")\n",
    "        print(f\"Index: {index}\")\n",
    "        print(f\"Degree: {g_movies.degree(index)}\")\n",
    "        print(f\"Sim. Score: {scores[index]}\")\n",
    "        print(\"------------------------\")"
   ]
  }
 ],
 "metadata": {
  "kernelspec": {
   "display_name": "Python 3",
   "language": "python",
   "name": "python3"
  },
  "language_info": {
   "codemirror_mode": {
    "name": "ipython",
    "version": 3
   },
   "file_extension": ".py",
   "mimetype": "text/x-python",
   "name": "python",
   "nbconvert_exporter": "python",
   "pygments_lexer": "ipython3",
   "version": "3.12.4"
  }
 },
 "nbformat": 4,
 "nbformat_minor": 2
}
