{
 "cells": [
  {
   "cell_type": "code",
   "execution_count": 1,
   "metadata": {},
   "outputs": [],
   "source": [
    "import numpy as np\n",
    "import matplotlib.pyplot as plt\n",
    "import igraph as ig\n",
    "import pandas as pd\n",
    "import networkx as nx\n",
    "from utils import *"
   ]
  },
  {
   "cell_type": "code",
   "execution_count": 2,
   "metadata": {},
   "outputs": [
    {
     "name": "stdout",
     "output_type": "stream",
     "text": [
      "Is Directed:              False\n",
      "Average Degree:           8.288\n",
      "Max Degree:               1025\n",
      "Clustering Coefficient:   0.0\n",
      "Number of Vertices:       2500\n",
      "Number of Edges:          10360\n",
      "Gamma:                    2.3605528142747856\n",
      "Number of Components:     1\n",
      "Number of Pendant Nodes   745\n",
      "Number of Isolated Nodes  0\n",
      "LCC:                      1.0\n",
      "Avg. Path Length:         3.1664982793117247\n"
     ]
    }
   ],
   "source": [
    "g_movies = read_pajek('example-graphs/movies.net')\n",
    "info(g_movies)"
   ]
  },
  {
   "cell_type": "code",
   "execution_count": 4,
   "metadata": {},
   "outputs": [
    {
     "data": {
      "text/plain": [
       "igraph.Vertex(<igraph.Graph object at 0x000001BF19599750>, 0, {'name': \"mov: '71\"})"
      ]
     },
     "execution_count": 4,
     "metadata": {},
     "output_type": "execute_result"
    }
   ],
   "source": [
    "g_movies.vs[0]"
   ]
  },
  {
   "cell_type": "code",
   "execution_count": 5,
   "metadata": {},
   "outputs": [],
   "source": [
    "for vertex in g_movies.vs:\n",
    "    tag, title = vertex[\"name\"].split(\":\")\n",
    "    tag = tag.strip()\n",
    "    title = title.strip()\n",
    "    vertex[\"tag\"] = tag\n",
    "    vertex[\"title\"] = title"
   ]
  },
  {
   "cell_type": "code",
   "execution_count": 6,
   "metadata": {},
   "outputs": [
    {
     "data": {
      "text/plain": [
       "igraph.Vertex(<igraph.Graph object at 0x000001BF19599750>, 0, {'name': \"mov: '71\", 'tag': 'mov', 'title': \"'71\"})"
      ]
     },
     "execution_count": 6,
     "metadata": {},
     "output_type": "execute_result"
    }
   ],
   "source": [
    "g_movies.vs[0]"
   ]
  }
 ],
 "metadata": {
  "kernelspec": {
   "display_name": "Python 3",
   "language": "python",
   "name": "python3"
  },
  "language_info": {
   "codemirror_mode": {
    "name": "ipython",
    "version": 3
   },
   "file_extension": ".py",
   "mimetype": "text/x-python",
   "name": "python",
   "nbconvert_exporter": "python",
   "pygments_lexer": "ipython3",
   "version": "3.12.4"
  }
 },
 "nbformat": 4,
 "nbformat_minor": 2
}
